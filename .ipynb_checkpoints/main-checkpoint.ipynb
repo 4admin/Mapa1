{
 "cells": [
  {
   "cell_type": "code",
   "execution_count": null,
   "id": "784429de",
   "metadata": {},
   "outputs": [],
   "source": [
    "import pandas as pd\n",
    "import openpyxl\n",
    "import plotly.express as px\n",
    "import plotly.graph_objects as go\n",
    "arquivo = pd.read_excel('20250226_Planilha_AnaliseFMD.xlsx', sheet_name='Tabela Geral')\n",
    "arquivo"
   ]
  },
  {
   "cell_type": "code",
   "execution_count": null,
   "id": "d2582ff6",
   "metadata": {},
   "outputs": [],
   "source": [
    "arquivo.columns"
   ]
  },
  {
   "cell_type": "code",
   "execution_count": null,
   "id": "0e2b2843",
   "metadata": {},
   "outputs": [],
   "source": [
    "arquivo.info()"
   ]
  },
  {
   "cell_type": "code",
   "execution_count": null,
   "id": "146c9185",
   "metadata": {},
   "outputs": [],
   "source": [
    "arquivo['Coordenada X'] = pd.to_numeric(arquivo['Coordenada X'], errors='coerce')\n",
    "arquivo['Coordenada Y'] = pd.to_numeric(arquivo['Coordenada Y'], errors='coerce')\n",
    "arquivo_filtrado = arquivo.dropna(subset=['Coordenada X', 'Coordenada Y'])\n",
    "arquivo_filtrado[15:20]"
   ]
  },
  {
   "cell_type": "code",
   "execution_count": null,
   "id": "dd1de92a",
   "metadata": {},
   "outputs": [],
   "source": [
    "import json\n",
    "# Carregando o arquivo GeoJSON com os limites dos distritos\n",
    "with open('distritos-sp.geojson', 'r', encoding='utf-8') as f:\n",
    "    geojson_data = json.load(f)\n"
   ]
  },
  {
   "cell_type": "code",
   "execution_count": null,
   "id": "f88aaf30",
   "metadata": {},
   "outputs": [],
   "source": [
    "# grafico = px.density_mapbox(\n",
    "#     arquivo_filtrado,\n",
    "#     x='Coordenada X', \n",
    "#     y='Coordenada Y', \n",
    "#     color='Valor Empenho',\n",
    "#     mapbox_style='open-street-map',\n",
    "#     center=dict(lat=-23.5, lon=-46.6),  # opcional: define o centro do mapa\n",
    "#     zoom=4\n",
    "#     )  # opcional: define o zoom inicial\n",
    "\n",
    "# grafico.show()"
   ]
  },
  {
   "cell_type": "code",
   "execution_count": null,
   "id": "0eca4a31",
   "metadata": {},
   "outputs": [],
   "source": [
    "# import plotly.graph_objects as go # or plotly.express as px\n",
    "# fig = go.Figure() # or any Plotly Express function e.g. px.bar(...)\n",
    "# # fig.add_trace( ... )\n",
    "# # fig.update_layout( ... )\n",
    "\n",
    "# from dash import Dash, dcc, html\n",
    "\n",
    "# app = Dash()\n",
    "# app.layout = html.Div([\n",
    "#     dcc.Graph(figure=fig)\n",
    "# ])\n",
    "\n",
    "# app.run_server(debug=True, use_reloader=False)  # Turn off reloader if inside Jupyter"
   ]
  },
  {
   "cell_type": "code",
   "execution_count": null,
   "id": "dd34016b",
   "metadata": {},
   "outputs": [],
   "source": [
    "geojson_data['features'][0]['properties']"
   ]
  },
  {
   "cell_type": "code",
   "execution_count": null,
   "id": "61b408a2",
   "metadata": {},
   "outputs": [],
   "source": [
    "fig = px.scatter_map(arquivo_filtrado, lat='Coordenada Y', lon='Coordenada X', hover_name=\"Unidade\", hover_data=['Equipamento 2','Valor Empenho', 'Equipamento 1', 'Endereço', 'Região', 'Extensão (m)','Trecho (Recap)',\n",
    "                                                                                                                 'Função', 'Sub Função', 'Programa', 'Atividade',\n",
    "                                                                                                                 'Valor Empenho', 'Valor Empenho Cancelado','Valor Empenho Líquido', 'Valor Empenho Liquidado',\n",
    "                                                                                                                 ], \n",
    "                    #size_max=15, size='Valor Empenho', color='Valor Empenho', marker_size_max=150)\n",
    "                    labels={'Valor Empenho': 'Valor Empenho (R$)'},              \n",
    "                    center=dict(lat=-23.7, lon=-46.6), color_discrete_map={'15 - URBANISMO': 'blue','10 - SAÚDE': 'green','26 - TRANSPORTE': 'red','16 - HABITAÇÃO ': 'purple','08 - ASSISTÊNCIA SOCIAL': 'orange'}, color='Função', \n",
    "                    title=\"Análise de Empenho por Região\",\n",
    "                      zoom=10, height=900)\n",
    "fig.update_traces(marker=dict(size=20))\n",
    "fig.update_layout(map_style='open-street-map',\n",
    "                  mapbox_layers=[\n",
    "                      {\n",
    "                  'source': geojson_data,\n",
    "                  'type': 'line',\n",
    "                  'color': 'black',\n",
    "                  'opacity': 0.6,\n",
    "                  'below': 'traces'\n",
    "                      }\n",
    "                  ])\n",
    "#fig.update_layout(margin={\"r\":0,\"t\":0,\"l\":0,\"b\":0})\n",
    "fig.show()"
   ]
  },
  {
   "cell_type": "code",
   "execution_count": null,
   "id": "00d6f75a",
   "metadata": {},
   "outputs": [],
   "source": [
    "import streamlit as st"
   ]
  },
  {
   "cell_type": "code",
   "execution_count": null,
   "id": "cd940dd0",
   "metadata": {},
   "outputs": [],
   "source": [
    "st.write(\"\"\"\n",
    "# Análise de Dados\n",
    "\"\"\")\n",
    "\n"
   ]
  }
 ],
 "metadata": {
  "kernelspec": {
   "display_name": "venv",
   "language": "python",
   "name": "python3"
  },
  "language_info": {
   "codemirror_mode": {
    "name": "ipython",
    "version": 3
   },
   "file_extension": ".py",
   "mimetype": "text/x-python",
   "name": "python",
   "nbconvert_exporter": "python",
   "pygments_lexer": "ipython3",
   "version": "3.11.9"
  }
 },
 "nbformat": 4,
 "nbformat_minor": 5
}
